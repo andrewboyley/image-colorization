{
 "cells": [
  {
   "cell_type": "code",
   "execution_count": 196,
   "metadata": {},
   "outputs": [],
   "source": [
    "import torch\n",
    "import torch.nn as nn\n",
    "import torch.nn.functional as F\n",
    "\n",
    "import torch.optim as optim"
   ]
  },
  {
   "cell_type": "code",
   "execution_count": 197,
   "metadata": {},
   "outputs": [],
   "source": [
    "x_train = torch.tensor([[0,0],[0,1],[1,0],[1,1]]).type(torch.float32)\n",
    "y_train = torch.tensor([[0],[1],[1],[0]]).type(torch.float32)"
   ]
  },
  {
   "cell_type": "code",
   "execution_count": 198,
   "metadata": {},
   "outputs": [],
   "source": [
    "class Network(nn.Module):\n",
    "    def __init__(self):\n",
    "        super(Network,self).__init__()\n",
    "        self.input_layer = nn.Linear(in_features=2,out_features=4)\n",
    "        self.bn1 = nn.BatchNorm1d(num_features=4)\n",
    "        self.hidden_layer = nn.Linear(in_features=4,out_features=1)\n",
    "        \n",
    "    \n",
    "    def forward(self,t):\n",
    "        t = self.input_layer(t)\n",
    "        t = torch.sigmoid(t)\n",
    "        t = self.bn1(t)\n",
    "        \n",
    "        t = self.hidden_layer(t)\n",
    "        t = torch.sigmoid(t)\n",
    "        \n",
    "        return t"
   ]
  },
  {
   "cell_type": "code",
   "execution_count": 199,
   "metadata": {},
   "outputs": [],
   "source": [
    "network = Network()\n",
    "\n",
    "if(torch.cuda.is_available()):\n",
    "    network = network.to('cuda')\n",
    "    x_train = x_train.to('cuda')\n",
    "    y_train = y_train.to('cuda')"
   ]
  },
  {
   "cell_type": "code",
   "execution_count": 200,
   "metadata": {},
   "outputs": [
    {
     "name": "stdout",
     "output_type": "stream",
     "text": [
      "tensor([[2.2333e-04],\n",
      "        [9.9975e-01],\n",
      "        [9.9985e-01],\n",
      "        [1.8935e-04]], device='cuda:0')\n",
      "Loss 4.2896775909184726e-08\n"
     ]
    }
   ],
   "source": [
    "torch.set_grad_enabled(True)\n",
    "optimizer = optim.Adam(network.parameters(),lr=0.01)\n",
    "criterion = nn.MSELoss()\n",
    "\n",
    "for epoch in range(100):\n",
    "    output = network(x_train)\n",
    "    \n",
    "    network.zero_grad()\n",
    "    loss = criterion(output,y_train)\n",
    "    \n",
    "    loss.backward()\n",
    "    optimizer.step()\n",
    "\n",
    "torch.set_grad_enabled(False)\n",
    "print(network(x_train))\n",
    "print('Loss',criterion(output,y_train).item())"
   ]
  }
 ],
 "metadata": {
  "kernelspec": {
   "display_name": "Python 3",
   "language": "python",
   "name": "python3"
  },
  "language_info": {
   "codemirror_mode": {
    "name": "ipython",
    "version": 3
   },
   "file_extension": ".py",
   "mimetype": "text/x-python",
   "name": "python",
   "nbconvert_exporter": "python",
   "pygments_lexer": "ipython3",
   "version": "3.7.3"
  }
 },
 "nbformat": 4,
 "nbformat_minor": 2
}
